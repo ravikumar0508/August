{
 "cells": [
  {
   "cell_type": "code",
   "execution_count": 19,
   "id": "87b5c34f",
   "metadata": {},
   "outputs": [
    {
     "name": "stdout",
     "output_type": "stream",
     "text": [
      "the output is : 15\n"
     ]
    }
   ],
   "source": [
    "a =10\n",
    "b=5\n",
    "#A and b gets added\n",
    "c=(a+b)\n",
    "print(\"the output is : \" + str (c))"
   ]
  },
  {
   "cell_type": "code",
   "execution_count": null,
   "id": "2a312964",
   "metadata": {},
   "outputs": [],
   "source": [
    "Arith\n",
    "+ - (add,Sub)\n",
    "*-multi\n",
    "/-divi\n",
    "**-exponentiation\n",
    "//-floor divi\n",
    "% ?\n"
   ]
  },
  {
   "cell_type": "code",
   "execution_count": null,
   "id": "1eb1ce9c",
   "metadata": {},
   "outputs": [],
   "source": [
    "Asssignment \n",
    "=\n",
    "=="
   ]
  },
  {
   "cell_type": "code",
   "execution_count": 25,
   "id": "191302bd",
   "metadata": {},
   "outputs": [
    {
     "name": "stdout",
     "output_type": "stream",
     "text": [
      "30\n"
     ]
    }
   ],
   "source": [
    "#addition Operator:\n",
    "\n",
    "a=10\n",
    "\n",
    "b=20\n",
    "\n",
    "print(a+b)"
   ]
  },
  {
   "cell_type": "code",
   "execution_count": null,
   "id": "35eb0cd8",
   "metadata": {},
   "outputs": [],
   "source": [
    "<>\n",
    "and\n",
    "or\n",
    "not\n",
    "boolean"
   ]
  },
  {
   "cell_type": "code",
   "execution_count": 39,
   "id": "c78568e5",
   "metadata": {},
   "outputs": [
    {
     "data": {
      "text/plain": [
       "'\\ntype\\na = 10\\nprint(type(a))\\n'"
      ]
     },
     "execution_count": 39,
     "metadata": {},
     "output_type": "execute_result"
    }
   ],
   "source": [
    "\"\"\"\n",
    "type\n",
    "a = 10\n",
    "print(type(a))\n",
    "//-java\n",
    "#\n",
    "\n",
    "\"\"\""
   ]
  },
  {
   "cell_type": "code",
   "execution_count": null,
   "id": "8f26390c",
   "metadata": {},
   "outputs": [],
   "source": []
  },
  {
   "cell_type": "code",
   "execution_count": null,
   "id": "8ee4603c",
   "metadata": {},
   "outputs": [],
   "source": [
    "#operators\n",
    "https://www.w3schools.com/python/python_operators.asp\n",
    "   # 1.for each operator needs a program 1\n",
    "    #2.for each type 1\n",
    "    \n",
    "\n"
   ]
  }
 ],
 "metadata": {
  "kernelspec": {
   "display_name": "Python 3 (ipykernel)",
   "language": "python",
   "name": "python3"
  },
  "language_info": {
   "codemirror_mode": {
    "name": "ipython",
    "version": 3
   },
   "file_extension": ".py",
   "mimetype": "text/x-python",
   "name": "python",
   "nbconvert_exporter": "python",
   "pygments_lexer": "ipython3",
   "version": "3.9.12"
  }
 },
 "nbformat": 4,
 "nbformat_minor": 5
}
